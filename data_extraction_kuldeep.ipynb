{
 "cells": [
  {
   "cell_type": "code",
   "execution_count": 4,
   "id": "739daa80",
   "metadata": {},
   "outputs": [],
   "source": [
    "import json\n",
    "import os\n",
    "import numpy as np\n",
    "import torch\n",
    "from torch.utils.data import Dataset, DataLoader\n",
    "import spectral"
   ]
  },
  {
   "cell_type": "code",
   "execution_count": 5,
   "id": "c0996a40",
   "metadata": {},
   "outputs": [],
   "source": [
    "def extract_filename_with_ripeness(json_file_path , filenames_with_ripeness):\n",
    "\n",
    "    # Open the file and load the JSON data\n",
    "    with open(json_file_path, 'r') as f:\n",
    "        data = json.load(f)\n",
    "\n",
    "\n",
    "    # Iterate over the data to extract the relevant info\n",
    "    for i in range(len(data['records'])):\n",
    "        if data['records'][i]['fruit'] == 'Mango':  # Add the constraint for 'Avocados'\n",
    "            filenames_with_ripeness[data['records'][i]['files']['data_file']] = data['annotations'][i]['ripeness_state']\n",
    "\n",
    "        "
   ]
  },
  {
   "cell_type": "code",
   "execution_count": 6,
   "id": "471492c4",
   "metadata": {},
   "outputs": [
    {
     "data": {
      "text/plain": [
       "112"
      ]
     },
     "execution_count": 6,
     "metadata": {},
     "output_type": "execute_result"
    }
   ],
   "source": [
    "# Initialize lists for filenames and ripeness states\n",
    "filenames_with_ripeness = {}\n",
    "\n",
    "# Load JSON file from the parent folder\n",
    "json_file_path = os.path.join('train_only_labeled.json')\n",
    "extract_filename_with_ripeness(json_file_path , filenames_with_ripeness)\n",
    "len(filenames_with_ripeness)"
   ]
  },
  {
   "cell_type": "code",
   "execution_count": 7,
   "id": "c94ef98e",
   "metadata": {},
   "outputs": [
    {
     "data": {
      "text/plain": [
       "136"
      ]
     },
     "execution_count": 7,
     "metadata": {},
     "output_type": "execute_result"
    }
   ],
   "source": [
    "# Load JSON file from the parent folder\n",
    "json_file_path = os.path.join('test.json')\n",
    "extract_filename_with_ripeness(json_file_path , filenames_with_ripeness)\n",
    "len(filenames_with_ripeness)"
   ]
  },
  {
   "cell_type": "code",
   "execution_count": 8,
   "id": "8ae8b95e",
   "metadata": {},
   "outputs": [
    {
     "data": {
      "text/plain": [
       "160"
      ]
     },
     "execution_count": 8,
     "metadata": {},
     "output_type": "execute_result"
    }
   ],
   "source": [
    "# Load JSON file from the parent folder\n",
    "json_file_path = os.path.join('val.json')\n",
    "extract_filename_with_ripeness(json_file_path , filenames_with_ripeness)\n",
    "len(filenames_with_ripeness)"
   ]
  },
  {
   "cell_type": "code",
   "execution_count": 9,
   "id": "db3d172b",
   "metadata": {},
   "outputs": [
    {
     "data": {
      "text/plain": [
       "{'Mango/VIS/day_11_m3/mango_day_11_m3_01_back.bin': 'perfect',\n",
       " 'Mango/VIS_COR/day_11_m3/mango_day_11_m3_01_front.bin': 'perfect',\n",
       " 'Mango/VIS_COR/day_11_m3/mango_day_11_m3_01_back.bin': 'perfect',\n",
       " 'Mango/VIS/day_10_m3/mango_day_10_m3_02_front.bin': 'perfect',\n",
       " 'Mango/VIS/day_10_m3/mango_day_10_m3_02_back.bin': 'perfect',\n",
       " 'Mango/VIS_COR/day_10_m3/mango_day_10_m3_02_back.bin': 'perfect',\n",
       " 'Mango/VIS/day_2_m3/mango_day_2_m3_03_back.bin': 'unripe',\n",
       " 'Mango/VIS_COR/day_2_m3/mango_day_2_m3_03_front.bin': 'unripe',\n",
       " 'Mango/VIS_COR/day_2_m3/mango_day_2_m3_03_back.bin': 'unripe',\n",
       " 'Mango/VIS/day_9_m3/mango_day_9_m3_04_back.bin': 'unripe',\n",
       " 'Mango/VIS/day_5_m3/mango_day_5_m3_05_front.bin': 'unripe',\n",
       " 'Mango/VIS/day_5_m3/mango_day_5_m3_05_back.bin': 'unripe',\n",
       " 'Mango/VIS_COR/day_5_m3/mango_day_5_m3_05_front.bin': 'unripe',\n",
       " 'Mango/VIS_COR/day_5_m3/mango_day_5_m3_05_back.bin': 'unripe',\n",
       " 'Mango/VIS/day_8_m3/mango_day_8_m3_06_front.bin': 'perfect',\n",
       " 'Mango/VIS_COR/day_8_m3/mango_day_8_m3_06_front.bin': 'perfect',\n",
       " 'Mango/VIS_COR/day_8_m3/mango_day_8_m3_06_back.bin': 'perfect',\n",
       " 'Mango/VIS/day_4_m3/mango_day_4_m3_07_front.bin': 'unripe',\n",
       " 'Mango/VIS/day_4_m3/mango_day_4_m3_07_back.bin': 'unripe',\n",
       " 'Mango/VIS_COR/day_4_m3/mango_day_4_m3_07_front.bin': 'unripe',\n",
       " 'Mango/VIS_COR/day_4_m3/mango_day_4_m3_07_back.bin': 'unripe',\n",
       " 'Mango/VIS/day_8_m3/mango_day_8_m3_08_front.bin': 'perfect',\n",
       " 'Mango/VIS/day_8_m3/mango_day_8_m3_08_back.bin': 'perfect',\n",
       " 'Mango/VIS_COR/day_8_m3/mango_day_8_m3_08_front.bin': 'perfect',\n",
       " 'Mango/VIS_COR/day_8_m3/mango_day_8_m3_08_back.bin': 'perfect',\n",
       " 'Mango/VIS/day_8_m3/mango_day_8_m3_09_front.bin': 'overripe',\n",
       " 'Mango/VIS/day_8_m3/mango_day_8_m3_09_back.bin': 'overripe',\n",
       " 'Mango/VIS_COR/day_8_m3/mango_day_8_m3_09_back.bin': 'overripe',\n",
       " 'Mango/VIS/day_3_m3/mango_day_3_m3_10_front.bin': 'overripe',\n",
       " 'Mango/VIS/day_3_m3/mango_day_3_m3_10_back.bin': 'overripe',\n",
       " 'Mango/VIS_COR/day_3_m3/mango_day_3_m3_10_back.bin': 'overripe',\n",
       " 'Mango/VIS/day_3_m3/mango_day_3_m3_11_front.bin': 'unripe',\n",
       " 'Mango/VIS/day_3_m3/mango_day_3_m3_11_back.bin': 'unripe',\n",
       " 'Mango/VIS_COR/day_3_m3/mango_day_3_m3_11_front.bin': 'unripe',\n",
       " 'Mango/VIS_COR/day_3_m3/mango_day_3_m3_11_back.bin': 'unripe',\n",
       " 'Mango/VIS/day_10_m3/mango_day_10_m3_12_back.bin': 'perfect',\n",
       " 'Mango/VIS_COR/day_10_m3/mango_day_10_m3_12_front.bin': 'perfect',\n",
       " 'Mango/VIS_COR/day_10_m3/mango_day_10_m3_12_back.bin': 'perfect',\n",
       " 'Mango/VIS/day_5_m3/mango_day_5_m3_13_front.bin': 'unripe',\n",
       " 'Mango/VIS_COR/day_5_m3/mango_day_5_m3_13_front.bin': 'unripe',\n",
       " 'Mango/VIS_COR/day_5_m3/mango_day_5_m3_13_back.bin': 'unripe',\n",
       " 'Mango/VIS/day_12_m3/mango_day_12_m3_14_front.bin': 'overripe',\n",
       " 'Mango/VIS_COR/day_12_m3/mango_day_12_m3_14_front.bin': 'overripe',\n",
       " 'Mango/VIS_COR/day_12_m3/mango_day_12_m3_14_back.bin': 'overripe',\n",
       " 'Mango/VIS/day_1_m3/mango_day_1_m3_15_front.bin': 'perfect',\n",
       " 'Mango/VIS/day_1_m3/mango_day_1_m3_15_back.bin': 'perfect',\n",
       " 'Mango/VIS_COR/day_1_m3/mango_day_1_m3_15_back.bin': 'perfect',\n",
       " 'Mango/VIS/day_8_m3/mango_day_8_m3_16_front.bin': 'perfect',\n",
       " 'Mango/VIS/day_8_m3/mango_day_8_m3_16_back.bin': 'perfect',\n",
       " 'Mango/VIS_COR/day_8_m3/mango_day_8_m3_16_front.bin': 'perfect',\n",
       " 'Mango/VIS/day_9_m3/mango_day_9_m3_17_front.bin': 'perfect',\n",
       " 'Mango/VIS/day_9_m3/mango_day_9_m3_17_back.bin': 'perfect',\n",
       " 'Mango/VIS_COR/day_9_m3/mango_day_9_m3_17_front.bin': 'perfect',\n",
       " 'Mango/VIS_COR/day_9_m3/mango_day_9_m3_17_back.bin': 'perfect',\n",
       " 'Mango/VIS/day_9_m3/mango_day_9_m3_18_front.bin': 'perfect',\n",
       " 'Mango/VIS/day_9_m3/mango_day_9_m3_18_back.bin': 'perfect',\n",
       " 'Mango/VIS_COR/day_9_m3/mango_day_9_m3_18_front.bin': 'perfect',\n",
       " 'Mango/VIS_COR/day_9_m3/mango_day_9_m3_18_back.bin': 'perfect',\n",
       " 'Mango/VIS_COR/day_1_m3/mango_day_1_m3_19_front.bin': 'perfect',\n",
       " 'Mango/VIS_COR/day_1_m3/mango_day_1_m3_19_back.bin': 'perfect',\n",
       " 'Mango/VIS/day_4_m3/mango_day_4_m3_20_front.bin': 'overripe',\n",
       " 'Mango/VIS/day_4_m3/mango_day_4_m3_20_back.bin': 'overripe',\n",
       " 'Mango/VIS/day_10_m3/mango_day_10_m3_21_front.bin': 'unripe',\n",
       " 'Mango/VIS_COR/day_10_m3/mango_day_10_m3_21_front.bin': 'unripe',\n",
       " 'Mango/VIS_COR/day_10_m3/mango_day_10_m3_21_back.bin': 'unripe',\n",
       " 'Mango/VIS/day_8_m3/mango_day_8_m3_22_front.bin': 'unripe',\n",
       " 'Mango/VIS/day_8_m3/mango_day_8_m3_22_back.bin': 'unripe',\n",
       " 'Mango/VIS_COR/day_8_m3/mango_day_8_m3_22_front.bin': 'unripe',\n",
       " 'Mango/VIS_COR/day_7_m3/mango_day_7_m3_23_front.bin': 'perfect',\n",
       " 'Mango/VIS/day_7_m3/mango_day_7_m3_24_front.bin': 'perfect',\n",
       " 'Mango/VIS/day_7_m3/mango_day_7_m3_24_back.bin': 'perfect',\n",
       " 'Mango/VIS_COR/day_7_m3/mango_day_7_m3_24_front.bin': 'perfect',\n",
       " 'Mango/VIS_COR/day_7_m3/mango_day_7_m3_24_back.bin': 'perfect',\n",
       " 'Mango/VIS/day_9_m3/mango_day_9_m3_25_front.bin': 'perfect',\n",
       " 'Mango/VIS/day_9_m3/mango_day_9_m3_25_back.bin': 'perfect',\n",
       " 'Mango/VIS_COR/day_9_m3/mango_day_9_m3_25_front.bin': 'perfect',\n",
       " 'Mango/VIS/day_5_m3/mango_day_5_m3_26_front.bin': 'unripe',\n",
       " 'Mango/VIS/day_5_m3/mango_day_5_m3_26_back.bin': 'unripe',\n",
       " 'Mango/VIS_COR/day_5_m3/mango_day_5_m3_26_back.bin': 'unripe',\n",
       " 'Mango/VIS/day_7_m3/mango_day_7_m3_27_back.bin': 'unripe',\n",
       " 'Mango/VIS_COR/day_7_m3/mango_day_7_m3_27_front.bin': 'unripe',\n",
       " 'Mango/VIS/day_11_m3/mango_day_11_m3_28_front.bin': 'perfect',\n",
       " 'Mango/VIS/day_11_m3/mango_day_11_m3_28_back.bin': 'perfect',\n",
       " 'Mango/VIS_COR/day_11_m3/mango_day_11_m3_28_back.bin': 'perfect',\n",
       " 'Mango/VIS/day_7_m3/mango_day_7_m3_29_front.bin': 'unripe',\n",
       " 'Mango/VIS_COR/day_7_m3/mango_day_7_m3_29_front.bin': 'unripe',\n",
       " 'Mango/VIS_COR/day_12_m3/mango_day_12_m3_30_back.bin': 'overripe',\n",
       " 'Mango/VIS/day_12_m3/mango_day_12_m3_31_front.bin': 'overripe',\n",
       " 'Mango/VIS_COR/day_12_m3/mango_day_12_m3_31_back.bin': 'overripe',\n",
       " 'Mango/VIS/day_9_m3/mango_day_9_m3_32_front.bin': 'overripe',\n",
       " 'Mango/VIS/day_9_m3/mango_day_9_m3_32_back.bin': 'overripe',\n",
       " 'Mango/VIS_COR/day_9_m3/mango_day_9_m3_32_front.bin': 'overripe',\n",
       " 'Mango/VIS_COR/day_9_m3/mango_day_9_m3_32_back.bin': 'overripe',\n",
       " 'Mango/VIS/day_12_m3/mango_day_12_m3_33_back.bin': 'overripe',\n",
       " 'Mango/VIS_COR/day_12_m3/mango_day_12_m3_33_front.bin': 'overripe',\n",
       " 'Mango/VIS_COR/day_12_m3/mango_day_12_m3_33_back.bin': 'overripe',\n",
       " 'Mango/VIS/day_9_m3/mango_day_9_m3_34_back.bin': 'unripe',\n",
       " 'Mango/VIS_COR/day_9_m3/mango_day_9_m3_34_back.bin': 'unripe',\n",
       " 'Mango/VIS/day_12_m3/mango_day_12_m3_35_front.bin': 'overripe',\n",
       " 'Mango/VIS_COR/day_12_m3/mango_day_12_m3_35_front.bin': 'overripe',\n",
       " 'Mango/VIS_COR/day_4_m3/mango_day_4_m3_36_front.bin': 'overripe',\n",
       " 'Mango/VIS_COR/day_4_m3/mango_day_4_m3_36_back.bin': 'overripe',\n",
       " 'Mango/VIS/day_7_m3/mango_day_7_m3_37_back.bin': 'perfect',\n",
       " 'Mango/VIS_COR/day_7_m3/mango_day_7_m3_37_back.bin': 'perfect',\n",
       " 'Mango/VIS/day_11_m3/mango_day_11_m3_38_back.bin': 'unripe',\n",
       " 'Mango/VIS_COR/day_11_m3/mango_day_11_m3_38_front.bin': 'unripe',\n",
       " 'Mango/VIS/day_11_m3/mango_day_11_m3_39_front.bin': 'perfect',\n",
       " 'Mango/VIS/day_11_m3/mango_day_11_m3_39_back.bin': 'perfect',\n",
       " 'Mango/VIS_COR/day_11_m3/mango_day_11_m3_39_front.bin': 'perfect',\n",
       " 'Mango/VIS/day_10_m3/mango_day_10_m3_40_front.bin': 'overripe',\n",
       " 'Mango/VIS/day_10_m3/mango_day_10_m3_40_back.bin': 'overripe',\n",
       " 'Mango/VIS_COR/day_10_m3/mango_day_10_m3_40_back.bin': 'overripe',\n",
       " 'Mango/VIS/day_9_m3/mango_day_9_m3_04_front.bin': 'unripe',\n",
       " 'Mango/VIS_COR/day_9_m3/mango_day_9_m3_04_back.bin': 'unripe',\n",
       " 'Mango/VIS/day_10_m3/mango_day_10_m3_12_front.bin': 'perfect',\n",
       " 'Mango/VIS/day_5_m3/mango_day_5_m3_13_back.bin': 'unripe',\n",
       " 'Mango/VIS/day_12_m3/mango_day_12_m3_14_back.bin': 'overripe',\n",
       " 'Mango/VIS/day_1_m3/mango_day_1_m3_19_back.bin': 'perfect',\n",
       " 'Mango/VIS_COR/day_4_m3/mango_day_4_m3_20_front.bin': 'overripe',\n",
       " 'Mango/VIS_COR/day_4_m3/mango_day_4_m3_20_back.bin': 'overripe',\n",
       " 'Mango/VIS_COR/day_8_m3/mango_day_8_m3_22_back.bin': 'unripe',\n",
       " 'Mango/VIS/day_7_m3/mango_day_7_m3_23_back.bin': 'perfect',\n",
       " 'Mango/VIS_COR/day_7_m3/mango_day_7_m3_23_back.bin': 'perfect',\n",
       " 'Mango/VIS_COR/day_9_m3/mango_day_9_m3_25_back.bin': 'perfect',\n",
       " 'Mango/VIS_COR/day_7_m3/mango_day_7_m3_27_back.bin': 'unripe',\n",
       " 'Mango/VIS_COR/day_11_m3/mango_day_11_m3_28_front.bin': 'perfect',\n",
       " 'Mango/VIS_COR/day_7_m3/mango_day_7_m3_29_back.bin': 'unripe',\n",
       " 'Mango/VIS/day_12_m3/mango_day_12_m3_30_front.bin': 'overripe',\n",
       " 'Mango/VIS/day_12_m3/mango_day_12_m3_30_back.bin': 'overripe',\n",
       " 'Mango/VIS/day_12_m3/mango_day_12_m3_31_back.bin': 'overripe',\n",
       " 'Mango/VIS/day_9_m3/mango_day_9_m3_34_front.bin': 'unripe',\n",
       " 'Mango/VIS_COR/day_12_m3/mango_day_12_m3_35_back.bin': 'overripe',\n",
       " 'Mango/VIS/day_7_m3/mango_day_7_m3_37_front.bin': 'perfect',\n",
       " 'Mango/VIS_COR/day_7_m3/mango_day_7_m3_37_front.bin': 'perfect',\n",
       " 'Mango/VIS/day_11_m3/mango_day_11_m3_38_front.bin': 'unripe',\n",
       " 'Mango/VIS_COR/day_10_m3/mango_day_10_m3_40_front.bin': 'overripe',\n",
       " 'Mango/VIS/day_11_m3/mango_day_11_m3_01_front.bin': 'perfect',\n",
       " 'Mango/VIS_COR/day_10_m3/mango_day_10_m3_02_front.bin': 'perfect',\n",
       " 'Mango/VIS/day_2_m3/mango_day_2_m3_03_front.bin': 'unripe',\n",
       " 'Mango/VIS_COR/day_9_m3/mango_day_9_m3_04_front.bin': 'unripe',\n",
       " 'Mango/VIS/day_8_m3/mango_day_8_m3_06_back.bin': 'perfect',\n",
       " 'Mango/VIS_COR/day_8_m3/mango_day_8_m3_09_front.bin': 'overripe',\n",
       " 'Mango/VIS_COR/day_3_m3/mango_day_3_m3_10_front.bin': 'overripe',\n",
       " 'Mango/VIS_COR/day_1_m3/mango_day_1_m3_15_front.bin': 'perfect',\n",
       " 'Mango/VIS_COR/day_8_m3/mango_day_8_m3_16_back.bin': 'perfect',\n",
       " 'Mango/VIS/day_1_m3/mango_day_1_m3_19_front.bin': 'perfect',\n",
       " 'Mango/VIS/day_10_m3/mango_day_10_m3_21_back.bin': 'unripe',\n",
       " 'Mango/VIS/day_7_m3/mango_day_7_m3_23_front.bin': 'perfect',\n",
       " 'Mango/VIS_COR/day_5_m3/mango_day_5_m3_26_front.bin': 'unripe',\n",
       " 'Mango/VIS/day_7_m3/mango_day_7_m3_27_front.bin': 'unripe',\n",
       " 'Mango/VIS/day_7_m3/mango_day_7_m3_29_back.bin': 'unripe',\n",
       " 'Mango/VIS_COR/day_12_m3/mango_day_12_m3_30_front.bin': 'overripe',\n",
       " 'Mango/VIS_COR/day_12_m3/mango_day_12_m3_31_front.bin': 'overripe',\n",
       " 'Mango/VIS/day_12_m3/mango_day_12_m3_33_front.bin': 'overripe',\n",
       " 'Mango/VIS_COR/day_9_m3/mango_day_9_m3_34_front.bin': 'unripe',\n",
       " 'Mango/VIS/day_12_m3/mango_day_12_m3_35_back.bin': 'overripe',\n",
       " 'Mango/VIS/day_4_m3/mango_day_4_m3_36_front.bin': 'overripe',\n",
       " 'Mango/VIS/day_4_m3/mango_day_4_m3_36_back.bin': 'overripe',\n",
       " 'Mango/VIS_COR/day_11_m3/mango_day_11_m3_38_back.bin': 'unripe',\n",
       " 'Mango/VIS_COR/day_11_m3/mango_day_11_m3_39_back.bin': 'perfect'}"
      ]
     },
     "execution_count": 9,
     "metadata": {},
     "output_type": "execute_result"
    }
   ],
   "source": [
    "filenames_with_ripeness"
   ]
  },
  {
   "cell_type": "code",
   "execution_count": 10,
   "id": "9984482e",
   "metadata": {},
   "outputs": [],
   "source": [
    "os.environ[\"SPECTRAL_DATA\"] = \"\""
   ]
  },
  {
   "cell_type": "code",
   "execution_count": 11,
   "id": "1e284bfb",
   "metadata": {},
   "outputs": [],
   "source": [
    "# Define ripeness label mapping to numeric values\n",
    "ripeness_labels = {\"unripe\": 0, \"perfect\": 1, \"overripe\": 2}\n",
    "\n",
    "class MangoRipenessDataset(Dataset):\n",
    "    def __init__(self, data_dict, ripeness_labels, dataset_root):\n",
    "        \"\"\"\n",
    "        :param data_dict: Dictionary with file paths as keys and ripeness labels as values\n",
    "        :param ripeness_labels: Dictionary mapping ripeness states to numeric labels\n",
    "        :param dataset_root: Root directory of the dataset containing the bin and hdr files\n",
    "        \"\"\"\n",
    "        self.data_dict = data_dict\n",
    "        self.ripeness_labels = ripeness_labels\n",
    "        self.dataset_root = dataset_root  # Root folder where the bin files are stored\n",
    "        self.files = list(data_dict.keys())  # List of file paths\n",
    "\n",
    "    def __len__(self):\n",
    "        return len(self.files)\n",
    "\n",
    "    def __getitem__(self, idx):\n",
    "        # Get the file path and ripeness label\n",
    "        file_path = self.files[idx]\n",
    "        full_path = os.path.join(self.dataset_root, file_path)\n",
    "        hdr_path = full_path.replace('.bin', '.hdr')\n",
    "\n",
    "        # Open the hyperspectral image explicitly specifying both .hdr and .bin files\n",
    "        try:\n",
    "            hyperspectral_image = spectral.envi.open(hdr_path, full_path).load()\n",
    "        except Exception as e:\n",
    "            print(f\"Error loading {full_path}: {e}\")\n",
    "            raise\n",
    "\n",
    "        # Convert hyperspectral data to tensor\n",
    "        data = torch.tensor(hyperspectral_image).float()\n",
    "\n",
    "        # Get the label and convert to tensor\n",
    "        label_str = self.data_dict[file_path]\n",
    "        label = torch.tensor(self.ripeness_labels[label_str]).long()\n",
    "        print(label)\n",
    "        \n",
    "        return data, label\n",
    "\n",
    "\n",
    "\n"
   ]
  },
  {
   "cell_type": "code",
   "execution_count": 12,
   "id": "3f7686e8",
   "metadata": {},
   "outputs": [],
   "source": [
    "# Initialize the dataset and data loader\n",
    "dataset_root = \"\"  # Replace with the actual path to the dataset folder\n",
    "dataset = MangoRipenessDataset(filenames_with_ripeness, ripeness_labels, dataset_root)\n",
    "data_loader = DataLoader(dataset, batch_size=8, shuffle=True)"
   ]
  },
  {
   "cell_type": "code",
   "execution_count": 13,
   "id": "ab6c2f80",
   "metadata": {},
   "outputs": [
    {
     "name": "stdout",
     "output_type": "stream",
     "text": [
      "tensor(1)\n"
     ]
    }
   ],
   "source": [
    "sample_img , _ = dataset[46]\n",
    "sample_img_np = sample_img.numpy()"
   ]
  },
  {
   "cell_type": "code",
   "execution_count": 14,
   "id": "f5dbe1b4",
   "metadata": {},
   "outputs": [
    {
     "name": "stderr",
     "output_type": "stream",
     "text": [
      "/home/bail/deeplearning/deeplearning_env/pytorch_env/lib/python3.11/site-packages/spectral/graphics/spypylab.py:796: UserWarning: Failed to create RectangleSelector object. Interactive pixel class labeling will be unavailable.\n",
      "  warnings.warn(msg)\n"
     ]
    },
    {
     "data": {
      "text/plain": [
       "ImageView object:\n",
       "  Display bands       :  [0, 1, 2]\n",
       "  Interpolation       :  <default>\n",
       "  RGB data limits     :\n",
       "    R: [-0.0053137242794036865, 0.15763649344444275]\n",
       "    G: [-0.0023659109137952328, 0.10605469346046448]\n",
       "    B: [-0.008793169632554054, 0.7110670804977417]"
      ]
     },
     "execution_count": 14,
     "metadata": {},
     "output_type": "execute_result"
    },
    {
     "data": {
      "image/png": "[encoded data removed]",
      "text/plain": [
       "<Figure size 640x480 with 1 Axes>"
      ]
     },
     "metadata": {},
     "output_type": "display_data"
    }
   ],
   "source": [
    "spectral.imshow(sample_img_np[:,:,[2,54,160]])"
   ]
  },
  {
   "cell_type": "code",
   "execution_count": 15,
   "id": "31246ae6",
   "metadata": {},
   "outputs": [
    {
     "data": {
      "text/plain": [
       "(64, 64, 249)"
      ]
     },
     "execution_count": 15,
     "metadata": {},
     "output_type": "execute_result"
    }
   ],
   "source": [
    "sample_img_np.shape"
   ]
  },
  {
   "cell_type": "code",
   "execution_count": 16,
   "id": "9a1ae364",
   "metadata": {},
   "outputs": [
    {
     "name": "stdout",
     "output_type": "stream",
     "text": [
      "tensor(1)\n"
     ]
    },
    {
     "data": {
      "text/plain": [
       "tuple"
      ]
     },
     "execution_count": 16,
     "metadata": {},
     "output_type": "execute_result"
    }
   ],
   "source": [
    "type(dataset[0])"
   ]
  },
  {
   "cell_type": "code",
   "execution_count": 17,
   "id": "a9f1d964",
   "metadata": {},
   "outputs": [
    {
     "name": "stdout",
     "output_type": "stream",
     "text": [
      "tensor(1)\n",
      "tensor(1)\n",
      "tensor(1)\n",
      "tensor(1)\n",
      "tensor(1)\n",
      "tensor(1)\n",
      "tensor(0)\n",
      "tensor(0)\n",
      "tensor(0)\n",
      "tensor(0)\n",
      "tensor(0)\n",
      "tensor(0)\n",
      "tensor(0)\n",
      "tensor(0)\n",
      "tensor(1)\n",
      "tensor(1)\n",
      "tensor(1)\n",
      "tensor(0)\n",
      "tensor(0)\n",
      "tensor(0)\n",
      "tensor(0)\n",
      "tensor(1)\n",
      "tensor(1)\n",
      "tensor(1)\n",
      "tensor(1)\n",
      "tensor(2)\n",
      "tensor(2)\n",
      "tensor(2)\n",
      "tensor(2)\n",
      "tensor(2)\n",
      "tensor(2)\n",
      "tensor(0)\n",
      "tensor(0)\n",
      "tensor(0)\n",
      "tensor(0)\n",
      "tensor(1)\n",
      "tensor(1)\n",
      "tensor(1)\n",
      "tensor(0)\n",
      "tensor(0)\n",
      "tensor(0)\n",
      "tensor(2)\n",
      "tensor(2)\n",
      "tensor(2)\n",
      "tensor(1)\n",
      "tensor(1)\n",
      "tensor(1)\n",
      "tensor(1)\n",
      "tensor(1)\n",
      "tensor(1)\n",
      "tensor(1)\n",
      "tensor(1)\n",
      "tensor(1)\n",
      "tensor(1)\n",
      "tensor(1)\n",
      "tensor(1)\n",
      "tensor(1)\n",
      "tensor(1)\n",
      "tensor(1)\n",
      "tensor(1)\n",
      "tensor(2)\n",
      "tensor(2)\n",
      "tensor(0)\n",
      "tensor(0)\n",
      "tensor(0)\n",
      "tensor(0)\n",
      "tensor(0)\n",
      "tensor(0)\n",
      "tensor(1)\n",
      "tensor(1)\n",
      "tensor(1)\n",
      "tensor(1)\n",
      "tensor(1)\n",
      "tensor(1)\n",
      "tensor(1)\n",
      "tensor(1)\n",
      "tensor(0)\n",
      "tensor(0)\n",
      "tensor(0)\n",
      "tensor(0)\n",
      "tensor(0)\n",
      "tensor(1)\n",
      "tensor(1)\n",
      "tensor(1)\n",
      "tensor(0)\n",
      "tensor(0)\n",
      "tensor(2)\n",
      "tensor(2)\n",
      "tensor(2)\n",
      "tensor(2)\n",
      "tensor(2)\n",
      "tensor(2)\n",
      "tensor(2)\n",
      "tensor(2)\n",
      "tensor(2)\n",
      "tensor(2)\n",
      "tensor(0)\n",
      "tensor(0)\n",
      "tensor(2)\n",
      "tensor(2)\n",
      "tensor(2)\n",
      "tensor(2)\n",
      "tensor(1)\n",
      "tensor(1)\n",
      "tensor(0)\n",
      "tensor(0)\n",
      "tensor(1)\n",
      "tensor(1)\n",
      "tensor(1)\n",
      "tensor(2)\n",
      "tensor(2)\n",
      "tensor(2)\n",
      "tensor(0)\n",
      "tensor(0)\n",
      "tensor(1)\n",
      "tensor(0)\n",
      "tensor(2)\n",
      "tensor(1)\n",
      "tensor(2)\n",
      "tensor(2)\n",
      "tensor(0)\n",
      "tensor(1)\n",
      "tensor(1)\n",
      "tensor(1)\n",
      "tensor(0)\n",
      "tensor(1)\n",
      "tensor(0)\n",
      "tensor(2)\n",
      "tensor(2)\n",
      "tensor(2)\n",
      "tensor(0)\n",
      "tensor(2)\n",
      "tensor(1)\n",
      "tensor(1)\n",
      "tensor(0)\n",
      "tensor(2)\n",
      "tensor(1)\n",
      "tensor(1)\n",
      "tensor(0)\n",
      "tensor(0)\n",
      "tensor(1)\n",
      "tensor(2)\n",
      "tensor(2)\n",
      "tensor(1)\n",
      "tensor(1)\n",
      "tensor(1)\n",
      "tensor(0)\n",
      "tensor(1)\n",
      "tensor(0)\n",
      "tensor(0)\n",
      "tensor(0)\n",
      "tensor(2)\n",
      "tensor(2)\n",
      "tensor(2)\n",
      "tensor(0)\n",
      "tensor(2)\n",
      "tensor(2)\n",
      "tensor(2)\n",
      "tensor(0)\n",
      "tensor(1)\n"
     ]
    }
   ],
   "source": [
    "import torch\n",
    "import torch.nn.functional as F\n",
    "\n",
    "def save_dataset_with_padding(dataset, filename, target_shape=(64, 64, 249)):\n",
    "    data_list = []\n",
    "    label_list = []\n",
    "    \n",
    "    # Iterate over the dataset to gather all data and labels\n",
    "    for idx in range(len(dataset)):\n",
    "        data, label = dataset[idx]\n",
    "\n",
    "        # Pad the tensor to the target shape (64, 64, 249)\n",
    "        padding_dims = (0, target_shape[2] - data.shape[2])  # Pad along the last dimension only\n",
    "        data_padded = F.pad(data, padding_dims, \"constant\", 0)  # Pad with zeros\n",
    "        \n",
    "        data_list.append(data_padded)\n",
    "        label_list.append(label)\n",
    "    \n",
    "    # Convert lists of data and labels into tensors\n",
    "    data_tensor = torch.stack(data_list)\n",
    "    label_tensor = torch.stack(label_list)\n",
    "    \n",
    "    # Save to a single file\n",
    "    torch.save({'data': data_tensor, 'labels': label_tensor}, filename)\n",
    "\n",
    "# Example usage\n",
    "save_dataset_with_padding(data_loader.dataset, 'mango_ripeness_tensordataset.pt')\n"
   ]
  },
  {
   "cell_type": "code",
   "execution_count": 18,
   "id": "847de946",
   "metadata": {},
   "outputs": [],
   "source": [
    "loaded_data = torch.load('mango_ripeness_tensordataset.pt')\n",
    "newdata = loaded_data['data']\n",
    "newlabels = loaded_data['labels']"
   ]
  },
  {
   "cell_type": "code",
   "execution_count": 19,
   "id": "86545389",
   "metadata": {},
   "outputs": [
    {
     "data": {
      "text/plain": [
       "160"
      ]
     },
     "execution_count": 19,
     "metadata": {},
     "output_type": "execute_result"
    }
   ],
   "source": [
    "len(loaded_data['data'])"
   ]
  },
  {
   "cell_type": "code",
   "execution_count": null,
   "id": "cea69126",
   "metadata": {},
   "outputs": [],
   "source": []
  },
  {
   "cell_type": "code",
   "execution_count": null,
   "id": "715b51ac",
   "metadata": {},
   "outputs": [],
   "source": []
  }
 ],
 "metadata": {
  "kernelspec": {
   "display_name": "pytorch_env",
   "language": "python",
   "name": "pytorch_env"
  },
  "language_info": {
   "codemirror_mode": {
    "name": "ipython",
    "version": 3
   },
   "file_extension": ".py",
   "mimetype": "text/x-python",
   "name": "python",
   "nbconvert_exporter": "python",
   "pygments_lexer": "ipython3",
   "version": "3.11.6"
  }
 },
 "nbformat": 4,
 "nbformat_minor": 5
}
